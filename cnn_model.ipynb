{
  "nbformat": 4,
  "nbformat_minor": 0,
  "metadata": {
    "colab": {
      "provenance": []
    },
    "kernelspec": {
      "name": "python3",
      "display_name": "Python 3"
    },
    "language_info": {
      "name": "python"
    }
  },
  "cells": [
    {
      "cell_type": "code",
      "source": [
        "from google.colab import drive\n",
        "drive.mount('/content/drive')"
      ],
      "metadata": {
        "colab": {
          "base_uri": "https://localhost:8080/"
        },
        "id": "45e7A-f0iVJn",
        "outputId": "b253fe13-7787-4945-d238-ca4a2bac6c47"
      },
      "execution_count": null,
      "outputs": [
        {
          "output_type": "stream",
          "name": "stdout",
          "text": [
            "Drive already mounted at /content/drive; to attempt to forcibly remount, call drive.mount(\"/content/drive\", force_remount=True).\n"
          ]
        }
      ]
    },
    {
      "cell_type": "markdown",
      "source": [
        "### Pre-Processing"
      ],
      "metadata": {
        "id": "Pch70UPz4tgq"
      }
    },
    {
      "cell_type": "code",
      "source": [
        "import numpy as np\n",
        "import pandas as pd\n",
        "import matplotlib.pyplot as plt\n",
        "import os\n",
        "import tensorflow as tf\n",
        "from keras.preprocessing.image import ImageDataGenerator\n",
        "from sklearn.model_selection import train_test_split\n",
        "from sklearn.metrics import accuracy_score, confusion_matrix\n",
        "from tqdm import tqdm\n",
        "import cv2\n",
        "import random"
      ],
      "metadata": {
        "id": "otSmFkjRiW4t"
      },
      "execution_count": 1,
      "outputs": []
    },
    {
      "cell_type": "code",
      "source": [
        "data = tf.keras.utils.image_dataset_from_directory('/content/drive/MyDrive/stft_spectograms')"
      ],
      "metadata": {
        "colab": {
          "base_uri": "https://localhost:8080/"
        },
        "id": "ly1BDXaF6dHd",
        "outputId": "cef55c24-a984-42bf-e992-c74c8af39fa7"
      },
      "execution_count": 2,
      "outputs": [
        {
          "output_type": "stream",
          "name": "stdout",
          "text": [
            "Found 2080 files belonging to 2 classes.\n"
          ]
        }
      ]
    },
    {
      "cell_type": "code",
      "source": [
        "data_iterator=data.as_numpy_iterator()\n",
        "batch = data_iterator.next()"
      ],
      "metadata": {
        "id": "05PesnDf7ql1"
      },
      "execution_count": 3,
      "outputs": []
    },
    {
      "cell_type": "code",
      "source": [
        "batch[0].shape"
      ],
      "metadata": {
        "colab": {
          "base_uri": "https://localhost:8080/"
        },
        "id": "NsLO-C8O7y_C",
        "outputId": "ba12bf43-c1b7-4d3b-fd03-0d035b28acc2"
      },
      "execution_count": 4,
      "outputs": [
        {
          "output_type": "execute_result",
          "data": {
            "text/plain": [
              "(32, 256, 256, 3)"
            ]
          },
          "metadata": {},
          "execution_count": 4
        }
      ]
    },
    {
      "cell_type": "code",
      "source": [
        "data = data.map(lambda x,y:(x/255,y))"
      ],
      "metadata": {
        "id": "FmQC16g58Ir9"
      },
      "execution_count": 5,
      "outputs": []
    },
    {
      "cell_type": "code",
      "source": [
        "data.as_numpy_iterator().next()"
      ],
      "metadata": {
        "colab": {
          "base_uri": "https://localhost:8080/"
        },
        "id": "lfpPX-mB8Z2l",
        "outputId": "17b54c19-8e77-4f9c-f50d-b07eabfe9387"
      },
      "execution_count": 6,
      "outputs": [
        {
          "output_type": "execute_result",
          "data": {
            "text/plain": [
              "(array([[[[0.32941177, 0.07450981, 0.49019608],\n",
              "          [0.32941177, 0.07450981, 0.49019608],\n",
              "          [0.32941177, 0.07450981, 0.49019608],\n",
              "          ...,\n",
              "          [0.37254903, 0.09411765, 0.49803922],\n",
              "          [0.37254903, 0.09411765, 0.49803922],\n",
              "          [0.37254903, 0.09411765, 0.49803922]],\n",
              " \n",
              "         [[0.44231004, 0.12069546, 0.5030254 ],\n",
              "          [0.44231004, 0.12069546, 0.5030254 ],\n",
              "          [0.44231004, 0.12069546, 0.5030254 ],\n",
              "          ...,\n",
              "          [0.38024664, 0.09668352, 0.5006051 ],\n",
              "          [0.38024664, 0.09668352, 0.5006051 ],\n",
              "          [0.38024664, 0.09668352, 0.5006051 ]],\n",
              " \n",
              "         [[0.39060202, 0.10853247, 0.48154873],\n",
              "          [0.39060202, 0.10853247, 0.48154873],\n",
              "          [0.39060202, 0.10853247, 0.48154873],\n",
              "          ...,\n",
              "          [0.4025965 , 0.1046875 , 0.50362283],\n",
              "          [0.4025965 , 0.1046875 , 0.50362283],\n",
              "          [0.4025965 , 0.1046875 , 0.50362283]],\n",
              " \n",
              "         ...,\n",
              " \n",
              "         [[0.59454656, 0.17540595, 0.4997013 ],\n",
              "          [0.59454656, 0.17540595, 0.4997013 ],\n",
              "          [0.59454656, 0.17540595, 0.4997013 ],\n",
              "          ...,\n",
              "          [0.44100797, 0.12050398, 0.5058824 ],\n",
              "          [0.44100797, 0.12050398, 0.5058824 ],\n",
              "          [0.44100797, 0.12050398, 0.5058824 ]],\n",
              " \n",
              "         [[0.60784316, 0.18039216, 0.49803922],\n",
              "          [0.60784316, 0.18039216, 0.49803922],\n",
              "          [0.60784316, 0.18039216, 0.49803922],\n",
              "          ...,\n",
              "          [0.4509804 , 0.1254902 , 0.5058824 ],\n",
              "          [0.4509804 , 0.1254902 , 0.5058824 ],\n",
              "          [0.4509804 , 0.1254902 , 0.5058824 ]],\n",
              " \n",
              "         [[0.60784316, 0.18039216, 0.49803922],\n",
              "          [0.60784316, 0.18039216, 0.49803922],\n",
              "          [0.60784316, 0.18039216, 0.49803922],\n",
              "          ...,\n",
              "          [0.4509804 , 0.1254902 , 0.5058824 ],\n",
              "          [0.4509804 , 0.1254902 , 0.5058824 ],\n",
              "          [0.4509804 , 0.1254902 , 0.5058824 ]]],\n",
              " \n",
              " \n",
              "        [[[0.4392157 , 0.12156863, 0.5058824 ],\n",
              "          [0.4392157 , 0.12156863, 0.5058824 ],\n",
              "          [0.4392157 , 0.12156863, 0.5058824 ],\n",
              "          ...,\n",
              "          [0.26666668, 0.05882353, 0.4627451 ],\n",
              "          [0.26666668, 0.05882353, 0.4627451 ],\n",
              "          [0.26666668, 0.05882353, 0.4627451 ]],\n",
              " \n",
              "         [[0.39816177, 0.10360754, 0.50331646],\n",
              "          [0.39816177, 0.10360754, 0.50331646],\n",
              "          [0.39816177, 0.10360754, 0.50331646],\n",
              "          ...,\n",
              "          [0.25640318, 0.05882353, 0.45761335],\n",
              "          [0.25640318, 0.05882353, 0.45761335],\n",
              "          [0.25640318, 0.05882353, 0.45761335]],\n",
              " \n",
              "         [[0.37480852, 0.09411765, 0.50029874],\n",
              "          [0.37480852, 0.09411765, 0.50029874],\n",
              "          [0.37480852, 0.09411765, 0.50029874],\n",
              "          ...,\n",
              "          [0.3074908 , 0.07544424, 0.4748468 ],\n",
              "          [0.3074908 , 0.07544424, 0.4748468 ],\n",
              "          [0.3074908 , 0.07544424, 0.4748468 ]],\n",
              " \n",
              "         ...,\n",
              " \n",
              "         [[0.6141544 , 0.18098958, 0.4997013 ],\n",
              "          [0.6141544 , 0.18098958, 0.4997013 ],\n",
              "          [0.6141544 , 0.18098958, 0.4997013 ],\n",
              "          ...,\n",
              "          [0.46128982, 0.12928155, 0.5075444 ],\n",
              "          [0.46128982, 0.12928155, 0.5075444 ],\n",
              "          [0.46128982, 0.12928155, 0.5075444 ]],\n",
              " \n",
              "         [[0.627451  , 0.18431373, 0.49803922],\n",
              "          [0.627451  , 0.18431373, 0.49803922],\n",
              "          [0.627451  , 0.18431373, 0.49803922],\n",
              "          ...,\n",
              "          [0.43137255, 0.11764706, 0.5058824 ],\n",
              "          [0.43137255, 0.11764706, 0.5058824 ],\n",
              "          [0.43137255, 0.11764706, 0.5058824 ]],\n",
              " \n",
              "         [[0.627451  , 0.18431373, 0.49803922],\n",
              "          [0.627451  , 0.18431373, 0.49803922],\n",
              "          [0.627451  , 0.18431373, 0.49803922],\n",
              "          ...,\n",
              "          [0.43137255, 0.11764706, 0.5058824 ],\n",
              "          [0.43137255, 0.11764706, 0.5058824 ],\n",
              "          [0.43137255, 0.11764706, 0.5058824 ]]],\n",
              " \n",
              " \n",
              "        [[[0.11764706, 0.06666667, 0.28627452],\n",
              "          [0.11764706, 0.06666667, 0.28627452],\n",
              "          [0.11764706, 0.06666667, 0.28627452],\n",
              "          ...,\n",
              "          [0.43137255, 0.11764706, 0.5058824 ],\n",
              "          [0.43137255, 0.11764706, 0.5058824 ],\n",
              "          [0.43137255, 0.11764706, 0.5058824 ]],\n",
              " \n",
              "         [[0.37679994, 0.12054994, 0.42996323],\n",
              "          [0.37679994, 0.12054994, 0.42996323],\n",
              "          [0.37679994, 0.12054994, 0.42996323],\n",
              "          ...,\n",
              "          [0.5263097 , 0.15100338, 0.50331646],\n",
              "          [0.5263097 , 0.15100338, 0.50331646],\n",
              "          [0.5263097 , 0.15100338, 0.50331646]],\n",
              " \n",
              "         [[0.5635876 , 0.16564032, 0.50089616],\n",
              "          [0.5635876 , 0.16564032, 0.50089616],\n",
              "          [0.5635876 , 0.16564032, 0.50089616],\n",
              "          ...,\n",
              "          [0.61469823, 0.18192402, 0.49697456],\n",
              "          [0.61469823, 0.18192402, 0.49697456],\n",
              "          [0.61469823, 0.18192402, 0.49697456]],\n",
              " \n",
              "         ...,\n",
              " \n",
              "         [[0.6422028 , 0.19109222, 0.49352023],\n",
              "          [0.6422028 , 0.19109222, 0.49352023],\n",
              "          [0.6422028 , 0.19109222, 0.49352023],\n",
              "          ...,\n",
              "          [0.75878525, 0.23090532, 0.45929074],\n",
              "          [0.75878525, 0.23090532, 0.45929074],\n",
              "          [0.75878525, 0.23090532, 0.45929074]],\n",
              " \n",
              "         [[0.65882355, 0.19607843, 0.49019608],\n",
              "          [0.65882355, 0.19607843, 0.49019608],\n",
              "          [0.65882355, 0.19607843, 0.49019608],\n",
              "          ...,\n",
              "          [0.78039217, 0.23921569, 0.4509804 ],\n",
              "          [0.78039217, 0.23921569, 0.4509804 ],\n",
              "          [0.78039217, 0.23921569, 0.4509804 ]],\n",
              " \n",
              "         [[0.65882355, 0.19607843, 0.49019608],\n",
              "          [0.65882355, 0.19607843, 0.49019608],\n",
              "          [0.65882355, 0.19607843, 0.49019608],\n",
              "          ...,\n",
              "          [0.78039217, 0.23921569, 0.4509804 ],\n",
              "          [0.78039217, 0.23921569, 0.4509804 ],\n",
              "          [0.78039217, 0.23921569, 0.4509804 ]]],\n",
              " \n",
              " \n",
              "        ...,\n",
              " \n",
              " \n",
              "        [[[0.16078432, 0.06666667, 0.3529412 ],\n",
              "          [0.16078432, 0.06666667, 0.3529412 ],\n",
              "          [0.16078432, 0.06666667, 0.3529412 ],\n",
              "          ...,\n",
              "          [0.38431373, 0.09803922, 0.5019608 ],\n",
              "          [0.38431373, 0.09803922, 0.5019608 ],\n",
              "          [0.38431373, 0.09803922, 0.5019608 ]],\n",
              " \n",
              "         [[0.13769148, 0.06666667, 0.31445312],\n",
              "          [0.13769148, 0.06666667, 0.31445312],\n",
              "          [0.13769148, 0.06666667, 0.31445312],\n",
              "          ...,\n",
              "          [0.42536765, 0.11343443, 0.5045267 ],\n",
              "          [0.42536765, 0.11343443, 0.5045267 ],\n",
              "          [0.42536765, 0.11343443, 0.5045267 ]],\n",
              " \n",
              "         [[0.12715226, 0.06666667, 0.29910386],\n",
              "          [0.12715226, 0.06666667, 0.29910386],\n",
              "          [0.12715226, 0.06666667, 0.29910386],\n",
              "          ...,\n",
              "          [0.45703125, 0.12655485, 0.5058824 ],\n",
              "          [0.45703125, 0.12655485, 0.5058824 ],\n",
              "          [0.45703125, 0.12655485, 0.5058824 ]],\n",
              " \n",
              "         ...,\n",
              " \n",
              "         [[0.6997013 , 0.20950522, 0.48069087],\n",
              "          [0.6997013 , 0.20950522, 0.48069087],\n",
              "          [0.6997013 , 0.20950522, 0.48069087],\n",
              "          ...,\n",
              "          [0.4230086 , 0.11240043, 0.5052849 ],\n",
              "          [0.4230086 , 0.11240043, 0.5052849 ],\n",
              "          [0.4230086 , 0.11240043, 0.5052849 ]],\n",
              " \n",
              "         [[0.69803923, 0.20784314, 0.48235294],\n",
              "          [0.69803923, 0.20784314, 0.48235294],\n",
              "          [0.69803923, 0.20784314, 0.48235294],\n",
              "          ...,\n",
              "          [0.3764706 , 0.09411765, 0.5019608 ],\n",
              "          [0.3764706 , 0.09411765, 0.5019608 ],\n",
              "          [0.3764706 , 0.09411765, 0.5019608 ]],\n",
              " \n",
              "         [[0.69803923, 0.20784314, 0.48235294],\n",
              "          [0.69803923, 0.20784314, 0.48235294],\n",
              "          [0.69803923, 0.20784314, 0.48235294],\n",
              "          ...,\n",
              "          [0.3764706 , 0.09411765, 0.5019608 ],\n",
              "          [0.3764706 , 0.09411765, 0.5019608 ],\n",
              "          [0.3764706 , 0.09411765, 0.5019608 ]]],\n",
              " \n",
              " \n",
              "        [[[0.6901961 , 0.20784314, 0.48235294],\n",
              "          [0.6901961 , 0.20784314, 0.48235294],\n",
              "          [0.6901961 , 0.20784314, 0.48235294],\n",
              "          ...,\n",
              "          [0.77254903, 0.23529412, 0.45490196],\n",
              "          [0.77254903, 0.23529412, 0.45490196],\n",
              "          [0.77254903, 0.23529412, 0.45490196]],\n",
              " \n",
              "         [[0.651708  , 0.19501379, 0.49005055],\n",
              "          [0.651708  , 0.19501379, 0.49005055],\n",
              "          [0.651708  , 0.19501379, 0.49005055],\n",
              "          ...,\n",
              "          [0.7058364 , 0.21220128, 0.4754289 ],\n",
              "          [0.7058364 , 0.21220128, 0.4754289 ],\n",
              "          [0.7058364 , 0.21220128, 0.4754289 ]],\n",
              " \n",
              "         [[0.64799327, 0.19322151, 0.4907935 ],\n",
              "          [0.64799327, 0.19322151, 0.4907935 ],\n",
              "          [0.64799327, 0.19322151, 0.4907935 ],\n",
              "          ...,\n",
              "          [0.61241573, 0.18005514, 0.49458486],\n",
              "          [0.61241573, 0.18005514, 0.49458486],\n",
              "          [0.61241573, 0.18005514, 0.49458486]],\n",
              " \n",
              "         ...,\n",
              " \n",
              "         [[0.6259191 , 0.18491115, 0.49577972],\n",
              "          [0.6259191 , 0.18491115, 0.49577972],\n",
              "          [0.6259191 , 0.18491115, 0.49577972],\n",
              "          ...,\n",
              "          [0.6450827 , 0.19355851, 0.48926166],\n",
              "          [0.6450827 , 0.19355851, 0.48926166],\n",
              "          [0.6450827 , 0.19355851, 0.48926166]],\n",
              " \n",
              "         [[0.6392157 , 0.1882353 , 0.49411765],\n",
              "          [0.6392157 , 0.1882353 , 0.49411765],\n",
              "          [0.6392157 , 0.1882353 , 0.49411765],\n",
              "          ...,\n",
              "          [0.5686275 , 0.16862746, 0.5058824 ],\n",
              "          [0.5686275 , 0.16862746, 0.5058824 ],\n",
              "          [0.5686275 , 0.16862746, 0.5058824 ]],\n",
              " \n",
              "         [[0.6392157 , 0.1882353 , 0.49411765],\n",
              "          [0.6392157 , 0.1882353 , 0.49411765],\n",
              "          [0.6392157 , 0.1882353 , 0.49411765],\n",
              "          ...,\n",
              "          [0.5686275 , 0.16862746, 0.5058824 ],\n",
              "          [0.5686275 , 0.16862746, 0.5058824 ],\n",
              "          [0.5686275 , 0.16862746, 0.5058824 ]]],\n",
              " \n",
              " \n",
              "        [[[0.29803923, 0.06666667, 0.47843137],\n",
              "          [0.29803923, 0.06666667, 0.47843137],\n",
              "          [0.29803923, 0.06666667, 0.47843137],\n",
              "          ...,\n",
              "          [0.45882353, 0.12941177, 0.5058824 ],\n",
              "          [0.45882353, 0.12941177, 0.5058824 ],\n",
              "          [0.45882353, 0.12941177, 0.5058824 ]],\n",
              " \n",
              "         [[0.40580577, 0.10772059, 0.49639246],\n",
              "          [0.40580577, 0.10772059, 0.49639246],\n",
              "          [0.40580577, 0.10772059, 0.49639246],\n",
              "          ...,\n",
              "          [0.4613894 , 0.12941177, 0.5058824 ],\n",
              "          [0.4613894 , 0.12941177, 0.5058824 ],\n",
              "          [0.4613894 , 0.12941177, 0.5058824 ]],\n",
              " \n",
              "         [[0.4976486 , 0.14270833, 0.5058824 ],\n",
              "          [0.4976486 , 0.14270833, 0.5058824 ],\n",
              "          [0.4976486 , 0.14270833, 0.5058824 ],\n",
              "          ...,\n",
              "          [0.4860141 , 0.13772212, 0.5058824 ],\n",
              "          [0.4860141 , 0.13772212, 0.5058824 ],\n",
              "          [0.4860141 , 0.13772212, 0.5058824 ]],\n",
              " \n",
              "         ...,\n",
              " \n",
              "         [[0.3309436 , 0.07557445, 0.48959866],\n",
              "          [0.3309436 , 0.07557445, 0.48959866],\n",
              "          [0.3309436 , 0.07557445, 0.48959866],\n",
              "          ...,\n",
              "          [0.34571844, 0.09040288, 0.47817096],\n",
              "          [0.34571844, 0.09040288, 0.47817096],\n",
              "          [0.34571844, 0.09040288, 0.47817096]],\n",
              " \n",
              "         [[0.31764707, 0.07058824, 0.4862745 ],\n",
              "          [0.31764707, 0.07058824, 0.4862745 ],\n",
              "          [0.31764707, 0.07058824, 0.4862745 ],\n",
              "          ...,\n",
              "          [0.2509804 , 0.05882353, 0.45490196],\n",
              "          [0.2509804 , 0.05882353, 0.45490196],\n",
              "          [0.2509804 , 0.05882353, 0.45490196]],\n",
              " \n",
              "         [[0.31764707, 0.07058824, 0.4862745 ],\n",
              "          [0.31764707, 0.07058824, 0.4862745 ],\n",
              "          [0.31764707, 0.07058824, 0.4862745 ],\n",
              "          ...,\n",
              "          [0.2509804 , 0.05882353, 0.45490196],\n",
              "          [0.2509804 , 0.05882353, 0.45490196],\n",
              "          [0.2509804 , 0.05882353, 0.45490196]]]], dtype=float32),\n",
              " array([1, 1, 1, 1, 0, 0, 1, 1, 0, 0, 1, 1, 0, 1, 1, 1, 1, 1, 0, 1, 1, 0,\n",
              "        1, 1, 1, 0, 0, 1, 0, 0, 1, 0], dtype=int32))"
            ]
          },
          "metadata": {},
          "execution_count": 6
        }
      ]
    },
    {
      "cell_type": "code",
      "source": [
        "scaled_iterator = data.as_numpy_iterator()"
      ],
      "metadata": {
        "id": "z36p3cTy8ciN"
      },
      "execution_count": 7,
      "outputs": []
    },
    {
      "cell_type": "code",
      "source": [
        "scaled_iterator.next()[0].max()"
      ],
      "metadata": {
        "colab": {
          "base_uri": "https://localhost:8080/"
        },
        "id": "0GPNDwTQ8pOp",
        "outputId": "1c7b5bbd-a100-4f1d-ca32-7ea41d4a5a9b"
      },
      "execution_count": 8,
      "outputs": [
        {
          "output_type": "execute_result",
          "data": {
            "text/plain": [
              "0.99607843"
            ]
          },
          "metadata": {},
          "execution_count": 8
        }
      ]
    },
    {
      "cell_type": "code",
      "source": [
        "len(data)"
      ],
      "metadata": {
        "colab": {
          "base_uri": "https://localhost:8080/"
        },
        "id": "Jw3MikW88rzw",
        "outputId": "f31e2c09-2a4e-430b-d9a9-9c273eb6b988"
      },
      "execution_count": 9,
      "outputs": [
        {
          "output_type": "execute_result",
          "data": {
            "text/plain": [
              "65"
            ]
          },
          "metadata": {},
          "execution_count": 9
        }
      ]
    },
    {
      "cell_type": "code",
      "source": [
        "train_size=int(len(data)*.70)\n",
        "val_size=int(len(data)*.15)\n",
        "test_size=int(len(data)*.15)"
      ],
      "metadata": {
        "id": "89Rd9TCg8wDn"
      },
      "execution_count": 10,
      "outputs": []
    },
    {
      "cell_type": "code",
      "source": [
        "train=data.take(train_size)\n",
        "val=data.skip(train_size).take(val_size)\n",
        "test=data.skip(train_size+val_size).take(test_size)"
      ],
      "metadata": {
        "id": "_qCpW3Lv85NN"
      },
      "execution_count": 11,
      "outputs": []
    },
    {
      "cell_type": "markdown",
      "source": [
        "### Model"
      ],
      "metadata": {
        "id": "Bib6VeJz40gC"
      }
    },
    {
      "cell_type": "code",
      "source": [
        "from tensorflow.keras.models import Sequential\n",
        "from tensorflow.keras.layers import Conv2D, MaxPooling2D, Dense, Flatten, Dropout"
      ],
      "metadata": {
        "id": "hx-P9bPV87ua"
      },
      "execution_count": 12,
      "outputs": []
    },
    {
      "cell_type": "code",
      "source": [
        "model=Sequential()"
      ],
      "metadata": {
        "id": "CQubfxyA8-fL"
      },
      "execution_count": 13,
      "outputs": []
    },
    {
      "cell_type": "code",
      "source": [
        "model.add(Conv2D(16,(3,3),1, activation='relu',input_shape=(256,256,3)))\n",
        "model.add(MaxPooling2D())\n",
        "\n",
        "model.add(Conv2D(32,(3,3),1, activation='relu'))\n",
        "model.add(MaxPooling2D())\n",
        "\n",
        "model.add(Conv2D(32,(3,3),1, activation='relu'))\n",
        "model.add(MaxPooling2D())\n",
        "\n",
        "model.add(Conv2D(16,(3,3),1, activation='relu'))\n",
        "model.add(MaxPooling2D())\n",
        "\n",
        "model.add(Flatten())\n",
        "\n",
        "model.add(Dense(256,activation='relu'))\n",
        "model.add(Dense(1,activation='sigmoid'))"
      ],
      "metadata": {
        "id": "PvTZG3JU9Ado"
      },
      "execution_count": 14,
      "outputs": []
    },
    {
      "cell_type": "code",
      "source": [
        "model.compile('adam',loss=tf.losses.BinaryCrossentropy(), metrics=['accuracy'])"
      ],
      "metadata": {
        "id": "FH9U1h2-9Dkb"
      },
      "execution_count": 15,
      "outputs": []
    },
    {
      "cell_type": "code",
      "source": [
        "model.summary()"
      ],
      "metadata": {
        "colab": {
          "base_uri": "https://localhost:8080/"
        },
        "id": "uqBD-QlQ9G1O",
        "outputId": "661daaba-d38c-4da8-eec1-45ef600d56af"
      },
      "execution_count": 16,
      "outputs": [
        {
          "output_type": "stream",
          "name": "stdout",
          "text": [
            "Model: \"sequential\"\n",
            "_________________________________________________________________\n",
            " Layer (type)                Output Shape              Param #   \n",
            "=================================================================\n",
            " conv2d (Conv2D)             (None, 254, 254, 16)      448       \n",
            "                                                                 \n",
            " max_pooling2d (MaxPooling2  (None, 127, 127, 16)      0         \n",
            " D)                                                              \n",
            "                                                                 \n",
            " conv2d_1 (Conv2D)           (None, 125, 125, 32)      4640      \n",
            "                                                                 \n",
            " max_pooling2d_1 (MaxPoolin  (None, 62, 62, 32)        0         \n",
            " g2D)                                                            \n",
            "                                                                 \n",
            " conv2d_2 (Conv2D)           (None, 60, 60, 32)        9248      \n",
            "                                                                 \n",
            " max_pooling2d_2 (MaxPoolin  (None, 30, 30, 32)        0         \n",
            " g2D)                                                            \n",
            "                                                                 \n",
            " conv2d_3 (Conv2D)           (None, 28, 28, 16)        4624      \n",
            "                                                                 \n",
            " max_pooling2d_3 (MaxPoolin  (None, 14, 14, 16)        0         \n",
            " g2D)                                                            \n",
            "                                                                 \n",
            " flatten (Flatten)           (None, 3136)              0         \n",
            "                                                                 \n",
            " dense (Dense)               (None, 256)               803072    \n",
            "                                                                 \n",
            " dense_1 (Dense)             (None, 1)                 257       \n",
            "                                                                 \n",
            "=================================================================\n",
            "Total params: 822289 (3.14 MB)\n",
            "Trainable params: 822289 (3.14 MB)\n",
            "Non-trainable params: 0 (0.00 Byte)\n",
            "_________________________________________________________________\n"
          ]
        }
      ]
    },
    {
      "cell_type": "code",
      "source": [
        "logdir='/content/drive/MyDrive/logs'"
      ],
      "metadata": {
        "id": "vQvu4VxP9IgM"
      },
      "execution_count": 17,
      "outputs": []
    },
    {
      "cell_type": "code",
      "source": [
        "tensorboard_callback=tf.keras.callbacks.TensorBoard(log_dir=logdir)"
      ],
      "metadata": {
        "id": "4yCQNwYz9LV6"
      },
      "execution_count": 18,
      "outputs": []
    },
    {
      "cell_type": "code",
      "source": [
        "hist=model.fit(train,epochs=25,validation_data=val,callbacks=[tensorboard_callback])"
      ],
      "metadata": {
        "colab": {
          "base_uri": "https://localhost:8080/"
        },
        "id": "wdmAaZGp9a4p",
        "outputId": "5b8671e0-38e8-4c78-9bb4-97a5726e7dde"
      },
      "execution_count": 19,
      "outputs": [
        {
          "output_type": "stream",
          "name": "stdout",
          "text": [
            "Epoch 1/25\n",
            "45/45 [==============================] - 142s 3s/step - loss: 0.5954 - accuracy: 0.7111 - val_loss: 0.5467 - val_accuracy: 0.7569\n",
            "Epoch 2/25\n",
            "45/45 [==============================] - 106s 2s/step - loss: 0.5738 - accuracy: 0.7299 - val_loss: 0.5539 - val_accuracy: 0.7188\n",
            "Epoch 3/25\n",
            "45/45 [==============================] - 97s 2s/step - loss: 0.5688 - accuracy: 0.7312 - val_loss: 0.6011 - val_accuracy: 0.7326\n",
            "Epoch 4/25\n",
            "45/45 [==============================] - 107s 2s/step - loss: 0.5494 - accuracy: 0.7292 - val_loss: 0.5564 - val_accuracy: 0.7083\n",
            "Epoch 5/25\n",
            "45/45 [==============================] - 106s 2s/step - loss: 0.5341 - accuracy: 0.7326 - val_loss: 0.5192 - val_accuracy: 0.7222\n",
            "Epoch 6/25\n",
            "45/45 [==============================] - 101s 2s/step - loss: 0.5005 - accuracy: 0.7500 - val_loss: 0.5105 - val_accuracy: 0.7257\n",
            "Epoch 7/25\n",
            "45/45 [==============================] - 109s 2s/step - loss: 0.4867 - accuracy: 0.7674 - val_loss: 0.4955 - val_accuracy: 0.7188\n",
            "Epoch 8/25\n",
            "45/45 [==============================] - 99s 2s/step - loss: 0.4489 - accuracy: 0.7799 - val_loss: 0.4302 - val_accuracy: 0.7812\n",
            "Epoch 9/25\n",
            "45/45 [==============================] - 117s 2s/step - loss: 0.4016 - accuracy: 0.8264 - val_loss: 0.3784 - val_accuracy: 0.8194\n",
            "Epoch 10/25\n",
            "45/45 [==============================] - 106s 2s/step - loss: 0.3461 - accuracy: 0.8451 - val_loss: 0.3993 - val_accuracy: 0.8021\n",
            "Epoch 11/25\n",
            "45/45 [==============================] - 109s 2s/step - loss: 0.2894 - accuracy: 0.8729 - val_loss: 0.3224 - val_accuracy: 0.8611\n",
            "Epoch 12/25\n",
            "45/45 [==============================] - 107s 2s/step - loss: 0.2300 - accuracy: 0.9076 - val_loss: 0.2425 - val_accuracy: 0.9132\n",
            "Epoch 13/25\n",
            "45/45 [==============================] - 105s 2s/step - loss: 0.1752 - accuracy: 0.9271 - val_loss: 0.2233 - val_accuracy: 0.9167\n",
            "Epoch 14/25\n",
            "45/45 [==============================] - 107s 2s/step - loss: 0.1238 - accuracy: 0.9528 - val_loss: 0.2962 - val_accuracy: 0.8889\n",
            "Epoch 15/25\n",
            "45/45 [==============================] - 110s 2s/step - loss: 0.1495 - accuracy: 0.9396 - val_loss: 0.3025 - val_accuracy: 0.8993\n",
            "Epoch 16/25\n",
            "45/45 [==============================] - 109s 2s/step - loss: 0.0847 - accuracy: 0.9674 - val_loss: 0.2603 - val_accuracy: 0.9271\n",
            "Epoch 17/25\n",
            "45/45 [==============================] - 105s 2s/step - loss: 0.0643 - accuracy: 0.9757 - val_loss: 0.2468 - val_accuracy: 0.9375\n",
            "Epoch 18/25\n",
            "45/45 [==============================] - 108s 2s/step - loss: 0.0447 - accuracy: 0.9854 - val_loss: 0.1989 - val_accuracy: 0.9271\n",
            "Epoch 19/25\n",
            "45/45 [==============================] - 107s 2s/step - loss: 0.0276 - accuracy: 0.9917 - val_loss: 0.1586 - val_accuracy: 0.9514\n",
            "Epoch 20/25\n",
            "45/45 [==============================] - 105s 2s/step - loss: 0.0262 - accuracy: 0.9882 - val_loss: 0.2942 - val_accuracy: 0.9271\n",
            "Epoch 21/25\n",
            "45/45 [==============================] - 101s 2s/step - loss: 0.0135 - accuracy: 0.9958 - val_loss: 0.1831 - val_accuracy: 0.9514\n",
            "Epoch 22/25\n",
            "45/45 [==============================] - 105s 2s/step - loss: 0.0177 - accuracy: 0.9965 - val_loss: 0.2824 - val_accuracy: 0.9340\n",
            "Epoch 23/25\n",
            "45/45 [==============================] - 96s 2s/step - loss: 0.0327 - accuracy: 0.9917 - val_loss: 0.1552 - val_accuracy: 0.9479\n",
            "Epoch 24/25\n",
            "45/45 [==============================] - 105s 2s/step - loss: 0.0252 - accuracy: 0.9924 - val_loss: 0.2314 - val_accuracy: 0.9549\n",
            "Epoch 25/25\n",
            "45/45 [==============================] - 103s 2s/step - loss: 0.0084 - accuracy: 0.9979 - val_loss: 0.2698 - val_accuracy: 0.9410\n"
          ]
        }
      ]
    },
    {
      "cell_type": "code",
      "source": [
        "from tensorflow.keras.metrics import Precision, Recall, BinaryAccuracy, FalseNegatives, FalsePositives, TrueNegatives, TruePositives"
      ],
      "metadata": {
        "id": "afouC46C9crs"
      },
      "execution_count": 20,
      "outputs": []
    },
    {
      "cell_type": "code",
      "source": [
        "pre=Precision()\n",
        "re=Recall()\n",
        "acc=BinaryAccuracy()"
      ],
      "metadata": {
        "id": "lgzMJQAyIwVd"
      },
      "execution_count": 21,
      "outputs": []
    },
    {
      "cell_type": "code",
      "source": [
        "for batch in test.as_numpy_iterator():\n",
        "    X,y=batch\n",
        "    yhat=model.predict(X)\n",
        "    pre.update_state(y,yhat)\n",
        "    re.update_state(y,yhat)\n",
        "    acc.update_state(y,yhat)"
      ],
      "metadata": {
        "colab": {
          "base_uri": "https://localhost:8080/"
        },
        "id": "HSLGqXpQIzID",
        "outputId": "666d46a3-a6f6-4c64-a72f-755fc0f83bcb"
      },
      "execution_count": 22,
      "outputs": [
        {
          "output_type": "stream",
          "name": "stdout",
          "text": [
            "1/1 [==============================] - 1s 1s/step\n",
            "1/1 [==============================] - 1s 809ms/step\n",
            "1/1 [==============================] - 1s 925ms/step\n",
            "1/1 [==============================] - 1s 933ms/step\n",
            "1/1 [==============================] - 1s 730ms/step\n",
            "1/1 [==============================] - 0s 469ms/step\n",
            "1/1 [==============================] - 0s 437ms/step\n",
            "1/1 [==============================] - 1s 502ms/step\n",
            "1/1 [==============================] - 0s 445ms/step\n"
          ]
        }
      ]
    },
    {
      "cell_type": "code",
      "source": [
        "print(pre.result().numpy())\n",
        "print(re.result().numpy())\n",
        "print(acc.result().numpy())"
      ],
      "metadata": {
        "colab": {
          "base_uri": "https://localhost:8080/"
        },
        "id": "TpOJ7VzBI1OO",
        "outputId": "2cd15af5-b8bb-4174-c4d8-5c21be65031c"
      },
      "execution_count": 23,
      "outputs": [
        {
          "output_type": "stream",
          "name": "stdout",
          "text": [
            "0.9303483\n",
            "0.96391755\n",
            "0.9270833\n"
          ]
        }
      ]
    },
    {
      "cell_type": "code",
      "source": [
        "fn = FalseNegatives()\n",
        "fp = FalsePositives()\n",
        "tn = TrueNegatives()\n",
        "tp = TruePositives()"
      ],
      "metadata": {
        "id": "YC6b78W4I_qT"
      },
      "execution_count": 24,
      "outputs": []
    },
    {
      "cell_type": "code",
      "source": [
        "for batch in test.as_numpy_iterator():\n",
        "    X,y=batch\n",
        "    yhat=model.predict(X)\n",
        "    fn.update_state(y,yhat)\n",
        "    fp.update_state(y,yhat)\n",
        "    tn.update_state(y,yhat)\n",
        "    tp.update_state(y,yhat)"
      ],
      "metadata": {
        "colab": {
          "base_uri": "https://localhost:8080/"
        },
        "id": "YWJ6FxehLB1L",
        "outputId": "fe0aeb04-e51a-45b7-b9ba-3702b2cec0e2"
      },
      "execution_count": 25,
      "outputs": [
        {
          "output_type": "stream",
          "name": "stdout",
          "text": [
            "1/1 [==============================] - 1s 587ms/step\n",
            "1/1 [==============================] - 0s 470ms/step\n",
            "1/1 [==============================] - 1s 502ms/step\n",
            "1/1 [==============================] - 0s 426ms/step\n",
            "1/1 [==============================] - 0s 457ms/step\n",
            "1/1 [==============================] - 0s 438ms/step\n",
            "1/1 [==============================] - 1s 515ms/step\n",
            "1/1 [==============================] - 0s 450ms/step\n",
            "1/1 [==============================] - 1s 501ms/step\n"
          ]
        }
      ]
    },
    {
      "cell_type": "code",
      "source": [
        "print(f\"True Positive={tp.result().numpy()}, False Positive={fp.result().numpy()}, True Negative={tn.result().numpy()}, False Negative={fn.result().numpy()}\")"
      ],
      "metadata": {
        "colab": {
          "base_uri": "https://localhost:8080/"
        },
        "id": "H9zj4F7LLU3u",
        "outputId": "64afbcef-427f-4d12-be3d-7042e7fe26b9"
      },
      "execution_count": 26,
      "outputs": [
        {
          "output_type": "stream",
          "name": "stdout",
          "text": [
            "True Positive=194.0, False Positive=15.0, True Negative=73.0, False Negative=6.0\n"
          ]
        }
      ]
    },
    {
      "cell_type": "markdown",
      "source": [
        "### Manual Test"
      ],
      "metadata": {
        "id": "WPH4oayw4ae2"
      }
    },
    {
      "cell_type": "code",
      "source": [
        "import librosa as lb"
      ],
      "metadata": {
        "id": "cWvjO5ehwPib"
      },
      "execution_count": 27,
      "outputs": []
    },
    {
      "cell_type": "code",
      "source": [
        "signal, sample_rate = lb.load('/content/Recording_16.wav')"
      ],
      "metadata": {
        "id": "llzIgsdRpweb"
      },
      "execution_count": 28,
      "outputs": []
    },
    {
      "cell_type": "code",
      "source": [
        "def generate_spectogram(audio_folder, image_dim, output_folder = \"user\"):\n",
        "\n",
        "  output_dir = os.path.join(audio_folder, output_folder)\n",
        "  os.makedirs(output_dir, exist_ok=True)\n",
        "\n",
        "  n_frames=10\n",
        "  hop_length = len(signal)//n_frames\n",
        "  n_fft = 2048\n",
        "\n",
        "  for i in range(n_frames):\n",
        "    start_sample = i*hop_length\n",
        "    end_sample =start_sample + hop_length\n",
        "    if end_sample <= len(signal):\n",
        "      frame = signal[start_sample:end_sample]\n",
        "      D_frame = lb.stft(frame, n_fft = n_fft, hop_length = 512)\n",
        "      lb.display.specshow(lb.amplitude_to_db(D_frame), sr=sample_rate, hop_length=512)\n",
        "      plt.axis('off')\n",
        "      plt.savefig(os.path.join(output_dir, f'sample_frame_{i}.png'), bbox_inches='tight', pad_inches=0)\n",
        "      plt.close()"
      ],
      "metadata": {
        "id": "3M7vnxAqxdlz"
      },
      "execution_count": 29,
      "outputs": []
    },
    {
      "cell_type": "code",
      "source": [
        "audio_folder = '/content'\n",
        "generate_spectogram(audio_folder, image_dim=(256,256), output_folder=\"specgram\")"
      ],
      "metadata": {
        "colab": {
          "base_uri": "https://localhost:8080/"
        },
        "id": "z9k5SzjP0cJV",
        "outputId": "0b720430-dec8-47f1-e9b9-94c1d47afe2a"
      },
      "execution_count": 30,
      "outputs": [
        {
          "output_type": "stream",
          "name": "stderr",
          "text": [
            "<ipython-input-29-dabbc2365927>:16: UserWarning: amplitude_to_db was called on complex input so phase information will be discarded. To suppress this warning, call amplitude_to_db(np.abs(S)) instead.\n",
            "  lb.display.specshow(lb.amplitude_to_db(D_frame), sr=sample_rate, hop_length=512)\n"
          ]
        }
      ]
    },
    {
      "cell_type": "code",
      "source": [
        "import cv2"
      ],
      "metadata": {
        "id": "epNMoEg20_BL"
      },
      "execution_count": 31,
      "outputs": []
    },
    {
      "cell_type": "code",
      "source": [
        "for i in range(0,10):\n",
        "  img=cv2.imread(f'/content/specgram/sample_frame_{i}.png')\n",
        "  resize=tf.image.resize(img,(256,256))\n",
        "  yhat=model.predict(np.expand_dims(resize/255,0))\n",
        "  if yhat>0.5:\n",
        "    print(f'pathology')\n",
        "  else:\n",
        "    print(f'healthy')"
      ],
      "metadata": {
        "colab": {
          "base_uri": "https://localhost:8080/"
        },
        "id": "9N59c3OZ3nid",
        "outputId": "af167fbe-c63c-474c-b313-6d39d8186790"
      },
      "execution_count": 32,
      "outputs": [
        {
          "output_type": "stream",
          "name": "stdout",
          "text": [
            "1/1 [==============================] - 0s 150ms/step\n",
            "healthy\n",
            "1/1 [==============================] - 0s 56ms/step\n",
            "healthy\n",
            "1/1 [==============================] - 0s 56ms/step\n",
            "healthy\n",
            "1/1 [==============================] - 0s 53ms/step\n",
            "healthy\n",
            "1/1 [==============================] - 0s 56ms/step\n",
            "pathology\n",
            "1/1 [==============================] - 0s 57ms/step\n",
            "pathology\n",
            "1/1 [==============================] - 0s 56ms/step\n",
            "pathology\n",
            "1/1 [==============================] - 0s 67ms/step\n",
            "healthy\n",
            "1/1 [==============================] - 0s 52ms/step\n",
            "healthy\n",
            "1/1 [==============================] - 0s 51ms/step\n",
            "healthy\n"
          ]
        }
      ]
    },
    {
      "cell_type": "code",
      "source": [],
      "metadata": {
        "id": "_sv7DvgY3qC1"
      },
      "execution_count": 32,
      "outputs": []
    }
  ]
}