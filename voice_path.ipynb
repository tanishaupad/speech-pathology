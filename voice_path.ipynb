{
 "cells": [
  {
   "cell_type": "code",
   "execution_count": 1,
   "id": "d1a8ce79-30a4-428f-838a-37706447f5c3",
   "metadata": {},
   "outputs": [],
   "source": [
    "import pandas as pd\n",
    "import numpy as np\n",
    "import matplotlib.pyplot as plt\n",
    "import seaborn as sb\n",
    "import librosa as lb\n",
    "import pywt\n",
    "import wfdb\n",
    "import os"
   ]
  },
  {
   "cell_type": "code",
   "execution_count": null,
   "id": "a32ec0ba-c453-4367-b6f0-999af63ad846",
   "metadata": {},
   "outputs": [],
   "source": [
    "voice_1 = wfdb.rdrecord('voice004')\n",
    "#wfdb.plot_wfdb(record=voice_1)\n",
    "#display(voice_1.__dict__)\n",
    "segment = voice_1.p_signal\n",
    "segment = segment[:,0]\n",
    "sr = voice_1.fs\n",
    "time = np.arange(0,len(segment))/sr\n",
    "plt.figure(figsize=(15,4))\n",
    "plt.plot(time, segment)\n",
    "plt.ylabel(\"Amplitude\")\n",
    "plt.xlabel(\"Time (s)\")\n",
    "plt.show"
   ]
  },
  {
   "cell_type": "code",
   "execution_count": null,
   "id": "db539cee-0773-4d48-9f3a-8c58cf40e935",
   "metadata": {},
   "outputs": [],
   "source": [
    "pre_emph_coeff = 0.90\n",
    "emphasized_signal = np.append(segment[0], segment[1:] - pre_emph_coeff * segment[:-1])\n",
    "new_time = np.arange(0, len(emphasized_signal))/sr\n",
    "plt.figure(figsize=(15,4))\n",
    "plt.plot(new_time, emphasized_signal)\n",
    "plt.ylabel(\"Amplitude\")\n",
    "plt.xlabel(\"Time (s)\")\n",
    "plt.show"
   ]
  },
  {
   "cell_type": "code",
   "execution_count": null,
   "id": "1864d48e-2eb8-40d8-8ec9-266611d7871e",
   "metadata": {},
   "outputs": [],
   "source": [
    "frame_length = int(0.476*sr)\n",
    "hop_length = frame_length//2\n",
    "n_frames=10\n",
    "n_fft = 2048\n",
    "\n",
    "frames = [emphasized_signal[i*hop_length:i*hop_length + frame_length] for i in range(n_frames)]\n",
    "fig, axs = plt.subplots(n_frames, 1, figsize = (15,20))\n",
    "for i, frame in enumerate(frames):\n",
    "    D = lb.stft(frame, n_fft = n_fft, hop_length = 512)\n",
    "    DB = lb.amplitude_to_db(D, ref = np.max)\n",
    "    img = lb.display.specshow(DB, sr=voice_1.fs, hop_length=512, ax = axs[i])\n",
    "    axs[i].set_title(f\"Frame {i+1}\")\n",
    "    fig.colorbar(img, ax = axs[i], format = \"%+2.f dB\")\n",
    "plt.tight_layout()\n",
    "plt.show()"
   ]
  },
  {
   "cell_type": "code",
   "execution_count": 2,
   "id": "706454f3-4e76-4fe8-a325-96e3bc5616bd",
   "metadata": {},
   "outputs": [],
   "source": [
    "def plot_spectogram(audio_folder, image_dim=(64,64), output_folder=\"spectograms\"):\n",
    "\n",
    "    output_dir = os.path.join(audio_folder, output_folder)\n",
    "    os.makedirs(output_dir, exist_ok = True)\n",
    "\n",
    "    for i in range(1, 209):\n",
    "            voice = wfdb.rdrecord(f\"voice{i:03d}\")\n",
    "            segment = voice.p_signal\n",
    "            segment = segment[:,0]\n",
    "            sr = voice.fs\n",
    "            num_frames = 10\n",
    "            hop_length = len(segment)//num_frames\n",
    "            for j in range(num_frames):\n",
    "                start_sample = j*hop_length\n",
    "                end_sample = start_sample + hop_length\n",
    "                if end_sample <= len(segment):\n",
    "                    frame = segment[start_sample:end_sample]\n",
    "                    D_frame=np.abs(lb.stft(frame, n_fft=2048, hop_length=512))\n",
    "                    plt.figure(figsize=(image_dim[1] / 100, image_dim[0] / 100))\n",
    "                    lb.display.specshow(lb.amplitude_to_db(D_frame, ref=np.max),sr=sr, hop_length=hop_length, x_axis='time', y_axis='log')\n",
    "                    plt.axis('off')\n",
    "                    plt.savefig(os.path.join(output_dir, f'voice{i:03d}_frame_{j+1}.png'), bbox_inches='tight', pad_inches=0)\n",
    "                    plt.close()"
   ]
  },
  {
   "cell_type": "code",
   "execution_count": 3,
   "id": "46acc204-e88d-4b07-b987-92a5ee180cbd",
   "metadata": {},
   "outputs": [],
   "source": [
    "audio_folder = '.'\n",
    "plot_spectogram(audio_folder, image_dim = (256,256), output_folder=\"stft_spectograms\")"
   ]
  },
  {
   "cell_type": "code",
   "execution_count": null,
   "id": "165fd797-7dd9-414b-b30e-8aa358e0b90c",
   "metadata": {},
   "outputs": [],
   "source": []
  }
 ],
 "metadata": {
  "kernelspec": {
   "display_name": "Python 3 (ipykernel)",
   "language": "python",
   "name": "python3"
  },
  "language_info": {
   "codemirror_mode": {
    "name": "ipython",
    "version": 3
   },
   "file_extension": ".py",
   "mimetype": "text/x-python",
   "name": "python",
   "nbconvert_exporter": "python",
   "pygments_lexer": "ipython3",
   "version": "3.11.7"
  }
 },
 "nbformat": 4,
 "nbformat_minor": 5
}
